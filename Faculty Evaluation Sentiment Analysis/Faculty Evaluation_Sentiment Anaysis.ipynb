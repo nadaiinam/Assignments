{
 "cells": [
  {
   "cell_type": "code",
   "execution_count": 18,
   "metadata": {},
   "outputs": [],
   "source": [
    "import re\n",
    "import nltk\n",
    "from sklearn.datasets import load_files\n",
    "import csv\n",
    "\n",
    "import string\n",
    "import pickle\n",
    "from nltk.corpus import stopwords\n",
    "import string\n",
    "from nltk.tokenize import word_tokenize\n",
    "from nltk.stem import PorterStemmer\n",
    "from nltk.stem.wordnet import WordNetLemmatizer\n",
    "from sklearn.feature_extraction.text import CountVectorizer\n",
    "from sklearn.feature_extraction.text import TfidfTransformer\n",
    "from sklearn.model_selection import train_test_split\n",
    "import pandas as pd\n",
    "from nltk.tokenize import RegexpTokenizer\n",
    "from sklearn.naive_bayes import MultinomialNB\n",
    "from sklearn import metrics\n",
    "from sklearn.model_selection import train_test_split\n",
    "from sklearn.naive_bayes import MultinomialNB\n",
    "from sklearn.ensemble import RandomForestClassifier\n",
    "from sklearn.linear_model import LogisticRegression\n",
    "from sklearn.svm import SVC\n",
    "\n",
    "\n",
    "from sklearn import preprocessing\n",
    "from sklearn.metrics import accuracy_score\n"
   ]
  },
  {
   "cell_type": "code",
   "execution_count": 19,
   "metadata": {},
   "outputs": [],
   "source": [
    "train_file = pd.read_csv('Trainset.csv',encoding = \"ISO-8859-1\")\n",
    "test_file =  pd.read_csv('Testset without answer.csv',encoding = \"ISO-8859-1\")"
   ]
  },
  {
   "cell_type": "code",
   "execution_count": 12,
   "metadata": {},
   "outputs": [],
   "source": [
    "train_tokens = train_file['review'].apply(lambda x: x.split())\n",
    "test_tokens = test['review'].apply(lambda x: x.split())"
   ]
  },
  {
   "cell_type": "code",
   "execution_count": 13,
   "metadata": {},
   "outputs": [],
   "source": [
    "for i in range(len(train_tokens)):\n",
    "    train_tokens[i] = ' '.join(train_tokens[i])"
   ]
  },
  {
   "cell_type": "code",
   "execution_count": 14,
   "metadata": {},
   "outputs": [],
   "source": [
    "for i in range(len(test_tokens)):\n",
    "    test_tokens[i] = ' '.join(test_tokens[i])\n"
   ]
  },
  {
   "cell_type": "code",
   "execution_count": 15,
   "metadata": {},
   "outputs": [],
   "source": [
    "train_file['review'] = train_tokens\n",
    "test_file['review'] = test_tokens"
   ]
  },
  {
   "cell_type": "code",
   "execution_count": 16,
   "metadata": {},
   "outputs": [],
   "source": [
    "rating = train_file['rating']\n",
    "review = train_file['review']"
   ]
  },
  {
   "cell_type": "code",
   "execution_count": 17,
   "metadata": {},
   "outputs": [],
   "source": [
    "test_review = test_file['review']\n",
    "test_id = test_file['id']"
   ]
  },
  {
   "cell_type": "code",
   "execution_count": 153,
   "metadata": {},
   "outputs": [],
   "source": [
    "Count_v = CountVectorizer(lowercase=True, stop_words='english', max_features=6000, ngram_range=[1,6])\n",
    "f = Count_v.fit_transform(review)\n",
    "features_nd = f.toarray()"
   ]
  },
  {
   "cell_type": "code",
   "execution_count": 154,
   "metadata": {},
   "outputs": [],
   "source": [
    "test_features = Count_v.transform(test_review)\n",
    "test_features_nd = test_features.toarray()"
   ]
  },
  {
   "cell_type": "code",
   "execution_count": 162,
   "metadata": {},
   "outputs": [],
   "source": [
    "prediction_X_train, prediction_X_test, prediction_y_train, prediction_y_test = train_test_split(features_nd, rating, test_size=0.122,random_state=1000)\n"
   ]
  },
  {
   "cell_type": "code",
   "execution_count": 163,
   "metadata": {},
   "outputs": [
    {
     "name": "stdout",
     "output_type": "stream",
     "text": [
      "Random Forest:  0.5079787234042553\n"
     ]
    }
   ],
   "source": [
    "rf = RandomForestClassifier(n_estimators=140)\n",
    "rf.fit(prediction_X_train, prediction_y_train)\n",
    "rf_pred = rf.predict(prediction_X_test)\n",
    "print(\"Random Forest: \",accuracy_score(prediction_y_test, rf_pred))\n"
   ]
  },
  {
   "cell_type": "code",
   "execution_count": 164,
   "metadata": {},
   "outputs": [
    {
     "name": "stdout",
     "output_type": "stream",
     "text": [
      "Naive Bayes:  0.5292553191489362\n"
     ]
    }
   ],
   "source": [
    "nb = MultinomialNB()\n",
    "nb.fit(prediction_X_train, prediction_y_train)\n",
    "nb_pred = nb.predict(prediction_X_test)\n",
    "print(\"Naive Bayes: \",accuracy_score(prediction_y_test,nb_pred))\n"
   ]
  },
  {
   "cell_type": "code",
   "execution_count": 165,
   "metadata": {},
   "outputs": [],
   "source": [
    "y_pred = rf.predict(test_features_nd)\n",
    "y_pred2 = nb.predict(test_features_nd)\n"
   ]
  },
  {
   "cell_type": "code",
   "execution_count": 167,
   "metadata": {},
   "outputs": [],
   "source": [
    "row = ['id','rating']\n",
    "with open('NadaInam1.csv','w',newline='') as writeFile:\n",
    "\n",
    "    writer = csv.writer(writeFile)\n",
    "    writer.writerow(row)\n",
    "    for i in range(len(test_id)):\n",
    "        row = [test_id[i],y_pred[i]]\n",
    "        writer.writerow(row)\n",
    "\n",
    "writeFile.close()"
   ]
  },
  {
   "cell_type": "code",
   "execution_count": null,
   "metadata": {},
   "outputs": [],
   "source": []
  },
  {
   "cell_type": "code",
   "execution_count": null,
   "metadata": {},
   "outputs": [],
   "source": []
  }
 ],
 "metadata": {
  "kernelspec": {
   "display_name": "Python 3",
   "language": "python",
   "name": "python3"
  },
  "language_info": {
   "codemirror_mode": {
    "name": "ipython",
    "version": 3
   },
   "file_extension": ".py",
   "mimetype": "text/x-python",
   "name": "python",
   "nbconvert_exporter": "python",
   "pygments_lexer": "ipython3",
   "version": "3.7.4"
  }
 },
 "nbformat": 4,
 "nbformat_minor": 2
}
